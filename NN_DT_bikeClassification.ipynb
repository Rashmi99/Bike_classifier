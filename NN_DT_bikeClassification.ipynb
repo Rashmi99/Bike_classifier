{
 "cells": [
  {
   "cell_type": "markdown",
   "metadata": {},
   "source": [
    "ACTUAL IMPLEMENTATION:\n",
    "    \n",
    "df=pd.read_csv(\"bike_classification.csv\")\n",
    "\n",
    "train_df, test_df=train_test_split(df,test_size_proportion=0.3)\n",
    "\n",
    "tree=decision_tree_algorithm(train_df)\n",
    "\n",
    "accuracy=calculate_accuracy(test_df,tree)"
   ]
  },
  {
   "cell_type": "markdown",
   "metadata": {},
   "source": [
    "## Import Statements"
   ]
  },
  {
   "cell_type": "code",
   "execution_count": 1,
   "metadata": {},
   "outputs": [],
   "source": [
    "import numpy as np\n",
    "import pandas as pd\n",
    "\n",
    "import matplotlib.pyplot as plt\n",
    "import seaborn as sns\n",
    "%matplotlib inline\n",
    "\n",
    "import random\n",
    "from pprint import pprint"
   ]
  },
  {
   "cell_type": "markdown",
   "metadata": {},
   "source": [
    "## Load and prepare data"
   ]
  },
  {
   "cell_type": "code",
   "execution_count": 2,
   "metadata": {},
   "outputs": [],
   "source": [
    "df=pd.read_csv(\"bike_classification-2.csv\")"
   ]
  },
  {
   "cell_type": "code",
   "execution_count": 3,
   "metadata": {},
   "outputs": [
    {
     "data": {
      "text/html": [
       "<div>\n",
       "<style scoped>\n",
       "    .dataframe tbody tr th:only-of-type {\n",
       "        vertical-align: middle;\n",
       "    }\n",
       "\n",
       "    .dataframe tbody tr th {\n",
       "        vertical-align: top;\n",
       "    }\n",
       "\n",
       "    .dataframe thead th {\n",
       "        text-align: right;\n",
       "    }\n",
       "</style>\n",
       "<table border=\"1\" class=\"dataframe\">\n",
       "  <thead>\n",
       "    <tr style=\"text-align: right;\">\n",
       "      <th></th>\n",
       "      <th>Engine(cc)</th>\n",
       "      <th>Mileage(km)</th>\n",
       "      <th>Weight(lbs)</th>\n",
       "      <th>Power(bhp)</th>\n",
       "      <th>label</th>\n",
       "    </tr>\n",
       "  </thead>\n",
       "  <tbody>\n",
       "    <tr>\n",
       "      <th>0</th>\n",
       "      <td>999</td>\n",
       "      <td>27</td>\n",
       "      <td>410</td>\n",
       "      <td>199.0</td>\n",
       "      <td>sports</td>\n",
       "    </tr>\n",
       "    <tr>\n",
       "      <th>1</th>\n",
       "      <td>200</td>\n",
       "      <td>55</td>\n",
       "      <td>260</td>\n",
       "      <td>7.4</td>\n",
       "      <td>mileage</td>\n",
       "    </tr>\n",
       "    <tr>\n",
       "      <th>2</th>\n",
       "      <td>110</td>\n",
       "      <td>40</td>\n",
       "      <td>257</td>\n",
       "      <td>62.0</td>\n",
       "      <td>moped</td>\n",
       "    </tr>\n",
       "    <tr>\n",
       "      <th>3</th>\n",
       "      <td>1200</td>\n",
       "      <td>25</td>\n",
       "      <td>390</td>\n",
       "      <td>210.0</td>\n",
       "      <td>sports</td>\n",
       "    </tr>\n",
       "    <tr>\n",
       "      <th>4</th>\n",
       "      <td>1000</td>\n",
       "      <td>29</td>\n",
       "      <td>410</td>\n",
       "      <td>208.0</td>\n",
       "      <td>sports</td>\n",
       "    </tr>\n",
       "  </tbody>\n",
       "</table>\n",
       "</div>"
      ],
      "text/plain": [
       "   Engine(cc)  Mileage(km)  Weight(lbs)  Power(bhp)    label\n",
       "0         999           27          410       199.0   sports\n",
       "1         200           55          260         7.4  mileage\n",
       "2         110           40          257        62.0    moped\n",
       "3        1200           25          390       210.0   sports\n",
       "4        1000           29          410       208.0   sports"
      ]
     },
     "execution_count": 3,
     "metadata": {},
     "output_type": "execute_result"
    }
   ],
   "source": [
    "'''last column is our label used for classification and there should be no missing value, it is renamed as label'''\n",
    "df=df.rename(columns={\"BikeType\":\"label\"})\n",
    "df"
   ]
  },
  {
   "cell_type": "code",
   "execution_count": 4,
   "metadata": {},
   "outputs": [
    {
     "name": "stdout",
     "output_type": "stream",
     "text": [
      "<class 'pandas.core.frame.DataFrame'>\n",
      "RangeIndex: 43 entries, 0 to 42\n",
      "Data columns (total 5 columns):\n",
      "Engine(cc)     43 non-null int64\n",
      "Mileage(km)    43 non-null int64\n",
      "Weight(lbs)    43 non-null int64\n",
      "Power(bhp)     43 non-null float64\n",
      "label          43 non-null object\n",
      "dtypes: float64(1), int64(3), object(1)\n",
      "memory usage: 1.8+ KB\n"
     ]
    }
   ],
   "source": [
    "''' Gives information about the number of rows, columns, data type etc'''\n",
    "df.info()"
   ]
  },
  {
   "cell_type": "markdown",
   "metadata": {},
   "source": [
    "## train-test-split function"
   ]
  },
  {
   "cell_type": "code",
   "execution_count": 5,
   "metadata": {},
   "outputs": [],
   "source": [
    "def train_test_split(df,test_size):\n",
    "    if isinstance(test_size,float):\n",
    "        test_size=round(test_size * len(df))\n",
    "    indices=df.index.tolist()\n",
    "    test_indices=random.sample(population=indices,k=test_size)   #to randomly select train test indices\n",
    "    print(test_indices)\n",
    "    test_df=df.loc[test_indices]\n",
    "    train_df=df.drop(test_indices)\n",
    "    \n",
    "    return train_df,test_df"
   ]
  },
  {
   "cell_type": "code",
   "execution_count": 6,
   "metadata": {},
   "outputs": [
    {
     "name": "stdout",
     "output_type": "stream",
     "text": [
      "[5, 32, 35, 16, 42, 14, 38, 15, 29, 17, 1, 24, 34]\n"
     ]
    },
    {
     "data": {
      "text/html": [
       "<div>\n",
       "<style scoped>\n",
       "    .dataframe tbody tr th:only-of-type {\n",
       "        vertical-align: middle;\n",
       "    }\n",
       "\n",
       "    .dataframe tbody tr th {\n",
       "        vertical-align: top;\n",
       "    }\n",
       "\n",
       "    .dataframe thead th {\n",
       "        text-align: right;\n",
       "    }\n",
       "</style>\n",
       "<table border=\"1\" class=\"dataframe\">\n",
       "  <thead>\n",
       "    <tr style=\"text-align: right;\">\n",
       "      <th></th>\n",
       "      <th>Engine(cc)</th>\n",
       "      <th>Mileage(km)</th>\n",
       "      <th>Weight(lbs)</th>\n",
       "      <th>Power(bhp)</th>\n",
       "      <th>label</th>\n",
       "    </tr>\n",
       "  </thead>\n",
       "  <tbody>\n",
       "    <tr>\n",
       "      <th>5</th>\n",
       "      <td>150</td>\n",
       "      <td>38</td>\n",
       "      <td>190</td>\n",
       "      <td>17.0</td>\n",
       "      <td>moped</td>\n",
       "    </tr>\n",
       "    <tr>\n",
       "      <th>32</th>\n",
       "      <td>310</td>\n",
       "      <td>37</td>\n",
       "      <td>300</td>\n",
       "      <td>127.0</td>\n",
       "      <td>highway</td>\n",
       "    </tr>\n",
       "    <tr>\n",
       "      <th>35</th>\n",
       "      <td>310</td>\n",
       "      <td>36</td>\n",
       "      <td>288</td>\n",
       "      <td>28.0</td>\n",
       "      <td>highway</td>\n",
       "    </tr>\n",
       "    <tr>\n",
       "      <th>16</th>\n",
       "      <td>249</td>\n",
       "      <td>33</td>\n",
       "      <td>240</td>\n",
       "      <td>15.8</td>\n",
       "      <td>highway</td>\n",
       "    </tr>\n",
       "    <tr>\n",
       "      <th>42</th>\n",
       "      <td>125</td>\n",
       "      <td>55</td>\n",
       "      <td>240</td>\n",
       "      <td>8.5</td>\n",
       "      <td>mileage</td>\n",
       "    </tr>\n",
       "  </tbody>\n",
       "</table>\n",
       "</div>"
      ],
      "text/plain": [
       "    Engine(cc)  Mileage(km)  Weight(lbs)  Power(bhp)    label\n",
       "5          150           38          190        17.0    moped\n",
       "32         310           37          300       127.0  highway\n",
       "35         310           36          288        28.0  highway\n",
       "16         249           33          240        15.8  highway\n",
       "42         125           55          240         8.5  mileage"
      ]
     },
     "execution_count": 6,
     "metadata": {},
     "output_type": "execute_result"
    }
   ],
   "source": [
    "train_df,test_df=train_test_split(df,test_size=0.3)\n",
    "random.seed(0)\n",
    "test_df.head()\n"
   ]
  },
  {
   "cell_type": "markdown",
   "metadata": {},
   "source": [
    "## Helper functions"
   ]
  },
  {
   "cell_type": "markdown",
   "metadata": {},
   "source": [
    "For implementation of the main algorithm, we need certain functions.They are calculated here"
   ]
  },
  {
   "cell_type": "code",
   "execution_count": 7,
   "metadata": {},
   "outputs": [
    {
     "data": {
      "text/plain": [
       "array([[150, 38, 190, 17.0, 'moped'],\n",
       "       [310, 37, 300, 127.0, 'highway'],\n",
       "       [310, 36, 288, 28.0, 'highway'],\n",
       "       [249, 33, 240, 15.8, 'highway'],\n",
       "       [125, 55, 240, 8.5, 'mileage']], dtype=object)"
      ]
     },
     "execution_count": 7,
     "metadata": {},
     "output_type": "execute_result"
    }
   ],
   "source": [
    "data=test_df.values\n",
    "data[:5]"
   ]
  },
  {
   "cell_type": "markdown",
   "metadata": {},
   "source": [
    "### data pure"
   ]
  },
  {
   "cell_type": "code",
   "execution_count": 8,
   "metadata": {},
   "outputs": [],
   "source": [
    "'''To check data purity: i.e to know whether our classification is generating only one label'''\n",
    "def check_purity(data):\n",
    "    label_column=data[:,-1]\n",
    "    unique_classes=np.unique(label_column)\n",
    "\n",
    "    if len(unique_classes)==1:\n",
    "        return True\n",
    "    else:\n",
    "        return False"
   ]
  },
  {
   "cell_type": "markdown",
   "metadata": {},
   "source": [
    "### classify"
   ]
  },
  {
   "cell_type": "code",
   "execution_count": 9,
   "metadata": {},
   "outputs": [],
   "source": [
    "def classify_data(data):\n",
    "    label_column=data[:,-1]\n",
    "    unique_classes, count_unique_classes=np.unique(label_column,return_counts=True)\n",
    "\n",
    "    index=count_unique_classes.argmax()\n",
    "    classification=unique_classes[index]  #since this label appears max no of times, it is the classification\n",
    "     \n",
    "    return classification"
   ]
  },
  {
   "cell_type": "code",
   "execution_count": 10,
   "metadata": {},
   "outputs": [],
   "source": [
    "#classify_data(train_df[train_df['Mileage(km)']>50].values)"
   ]
  },
  {
   "cell_type": "markdown",
   "metadata": {},
   "source": [
    "### potential splits"
   ]
  },
  {
   "cell_type": "code",
   "execution_count": 11,
   "metadata": {},
   "outputs": [],
   "source": [
    "'''\n",
    "This function determines the various ways in which splitting of data can happen that will result in better classification.\n",
    "For all the unique values: average is taken for current and previous value\n",
    "'''\n",
    "def get_potential_splits(data):\n",
    "    potential_splits={}\n",
    "    _, n_columns=data.shape\n",
    "    for column_index in range(n_columns-1):\n",
    "        potential_splits[column_index]=[]\n",
    "        values=data[:,column_index]\n",
    "        unique_values=np.unique(values)\n",
    "    \n",
    "        for index in range(len(unique_values)):\n",
    "            if index!=0:\n",
    "                current_value=unique_values[index]\n",
    "                previous_value=unique_values[index-1]\n",
    "                potential_split=(current_value+previous_value)/2\n",
    "            \n",
    "            \n",
    "                potential_splits[column_index].append(potential_split)\n",
    "    \n",
    "    return potential_splits\n"
   ]
  },
  {
   "cell_type": "code",
   "execution_count": 12,
   "metadata": {},
   "outputs": [],
   "source": [
    "# if column_index==4:\n",
    "# print(values)"
   ]
  },
  {
   "cell_type": "code",
   "execution_count": 12,
   "metadata": {},
   "outputs": [
    {
     "data": {
      "text/plain": [
       "{0: [100.0,\n",
       "  117.5,\n",
       "  137.5,\n",
       "  180.0,\n",
       "  215.0,\n",
       "  234.5,\n",
       "  269.5,\n",
       "  295.0,\n",
       "  310.0,\n",
       "  335.0,\n",
       "  635.0,\n",
       "  959.0,\n",
       "  998.5,\n",
       "  999.5,\n",
       "  1100.0],\n",
       " 1: [26.0,\n",
       "  27.5,\n",
       "  28.5,\n",
       "  31.5,\n",
       "  34.5,\n",
       "  35.5,\n",
       "  36.5,\n",
       "  37.5,\n",
       "  38.5,\n",
       "  39.5,\n",
       "  41.0,\n",
       "  42.5,\n",
       "  44.0,\n",
       "  49.5,\n",
       "  56.0,\n",
       "  58.5,\n",
       "  59.5,\n",
       "  74.0],\n",
       " 2: [150.0,\n",
       "  169.0,\n",
       "  182.5,\n",
       "  188.0,\n",
       "  189.5,\n",
       "  195.0,\n",
       "  204.5,\n",
       "  209.5,\n",
       "  230.0,\n",
       "  253.5,\n",
       "  258.5,\n",
       "  265.0,\n",
       "  275.0,\n",
       "  284.5,\n",
       "  289.5,\n",
       "  295.0,\n",
       "  330.0,\n",
       "  370.0,\n",
       "  385.0,\n",
       "  395.0,\n",
       "  405.0],\n",
       " 3: [5.25,\n",
       "  5.65,\n",
       "  5.9,\n",
       "  6.15,\n",
       "  6.75,\n",
       "  8.6,\n",
       "  11.5,\n",
       "  14.3,\n",
       "  16.8,\n",
       "  19.15,\n",
       "  22.65,\n",
       "  25.5,\n",
       "  26.05,\n",
       "  27.05,\n",
       "  28.5,\n",
       "  45.5,\n",
       "  80.0,\n",
       "  109.0,\n",
       "  155.0,\n",
       "  193.5,\n",
       "  198.0,\n",
       "  203.5,\n",
       "  208.5,\n",
       "  209.5]}"
      ]
     },
     "execution_count": 12,
     "metadata": {},
     "output_type": "execute_result"
    }
   ],
   "source": [
    "potential_splits=get_potential_splits(train_df.values)\n",
    "potential_splits"
   ]
  },
  {
   "cell_type": "code",
   "execution_count": 13,
   "metadata": {},
   "outputs": [
    {
     "data": {
      "text/plain": [
       "<matplotlib.collections.LineCollection at 0x23624909358>"
      ]
     },
     "execution_count": 13,
     "metadata": {},
     "output_type": "execute_result"
    },
    {
     "data": {
      "image/png": "[encoded data removed]",
      "text/plain": [
       "<Figure size 726.125x432 with 1 Axes>"
      ]
     },
     "metadata": {
      "needs_background": "light"
     },
     "output_type": "display_data"
    }
   ],
   "source": [
    "'''Plot describing the various potential splits'''\n",
    "sns.lmplot(data=train_df, x=\"Mileage(km)\",y=\"Weight(lbs)\",hue=\"label\",fit_reg=False,height=6,aspect=1.5)\n",
    "plt.vlines(x=potential_splits[3],ymin=1,ymax=500)\n",
    "#plt.hlines(y=potential_splits[2],xmin=1,xmax=200)"
   ]
  },
  {
   "cell_type": "markdown",
   "metadata": {},
   "source": [
    "### Split data"
   ]
  },
  {
   "cell_type": "code",
   "execution_count": 14,
   "metadata": {},
   "outputs": [],
   "source": [
    "'''based on values from potential split, we create data below and data above that value'''\n",
    "def split_data(data,split_column, split_value):\n",
    "    split_column_values=data[:,split_column]\n",
    "    data_above=data[split_column_values >split_value]\n",
    "    data_below=data[split_column_values <=split_value] \n",
    "    return data_below,data_above"
   ]
  },
  {
   "cell_type": "code",
   "execution_count": 15,
   "metadata": {},
   "outputs": [
    {
     "data": {
      "text/plain": [
       "array([[150, 38, 190, 17.0, 'moped'],\n",
       "       [310, 37, 300, 127.0, 'highway'],\n",
       "       [310, 36, 288, 28.0, 'highway'],\n",
       "       [249, 33, 240, 15.8, 'highway'],\n",
       "       [125, 55, 240, 8.5, 'mileage'],\n",
       "       [920, 32, 410, 190.0, 'sports'],\n",
       "       [340, 34, 195, 150.0, 'highway'],\n",
       "       [125, 60, 250, 12.0, 'mileage'],\n",
       "       [125, 40, 180, 7.0, 'moped'],\n",
       "       [1000, 31, 370, 75.0, 'sports'],\n",
       "       [200, 55, 260, 7.4, 'mileage'],\n",
       "       [270, 38, 280, 7.0, 'highway'],\n",
       "       [280, 39, 286, 30.0, 'highway']], dtype=object)"
      ]
     },
     "execution_count": 15,
     "metadata": {},
     "output_type": "execute_result"
    }
   ],
   "source": [
    "split_column=1\n",
    "split_value=100\n",
    "data"
   ]
  },
  {
   "cell_type": "code",
   "execution_count": 16,
   "metadata": {},
   "outputs": [
    {
     "data": {
      "text/plain": [
       "array([], shape=(0, 5), dtype=object)"
      ]
     },
     "execution_count": 16,
     "metadata": {},
     "output_type": "execute_result"
    }
   ],
   "source": [
    "data_below,data_above=split_data(data,split_column,split_value)\n",
    "data_above"
   ]
  },
  {
   "cell_type": "code",
   "execution_count": 17,
   "metadata": {},
   "outputs": [
    {
     "data": {
      "text/plain": [
       "<matplotlib.collections.LineCollection at 0x23624cd2b38>"
      ]
     },
     "execution_count": 17,
     "metadata": {},
     "output_type": "execute_result"
    },
    {
     "data": {
      "image/png": "[encoded data removed]",
      "text/plain": [
       "<Figure size 648x432 with 1 Axes>"
      ]
     },
     "metadata": {
      "needs_background": "light"
     },
     "output_type": "display_data"
    }
   ],
   "source": [
    "'''for separating one class from the rest'''\n",
    "plotting_df=pd.DataFrame(data,columns=df.columns)\n",
    "sns.lmplot(data=plotting_df,x=\"Power(bhp)\",y=\"Weight(lbs)\",fit_reg=False,height=6,aspect=1.5)\n",
    "plt.vlines(x=split_value,ymin=1,ymax=400)\n",
    "#plt.xlim(55,)"
   ]
  },
  {
   "cell_type": "markdown",
   "metadata": {},
   "source": [
    "### Lowest overall entropy"
   ]
  },
  {
   "cell_type": "code",
   "execution_count": 18,
   "metadata": {},
   "outputs": [],
   "source": [
    "'''Entropy defines the overall disorderness of the system. Therefore more entropy means more data is scattered'''\n",
    "\n",
    "def calculate_entropy(data):\n",
    "    label_column=data[:,-1]\n",
    "    _,counts=np.unique(label_column,return_counts=True)\n",
    "    #print(counts)\n",
    "    probabilities=counts/counts.sum()\n",
    "    entropy=sum(probabilities * -np.log2(probabilities))   #entropy=weighted sum* uncertainity value\n",
    "    return entropy"
   ]
  },
  {
   "cell_type": "code",
   "execution_count": 19,
   "metadata": {},
   "outputs": [
    {
     "data": {
      "text/plain": [
       "0"
      ]
     },
     "execution_count": 19,
     "metadata": {},
     "output_type": "execute_result"
    }
   ],
   "source": [
    "calculate_entropy(data_above)   #beacuse that classification is unique: i.e it contains only 1 label\n",
    "\n",
    "#'''Entropy >1 is also possible, that means it is highly disordered'''"
   ]
  },
  {
   "cell_type": "code",
   "execution_count": 20,
   "metadata": {},
   "outputs": [],
   "source": [
    "def calculate_overall_entropy(data_below,data_above):\n",
    "    n_data_points=len(data_below)+len(data_above)\n",
    "\n",
    "    p_data_below=len(data_below)/n_data_points\n",
    "    p_data_above=len(data_above)/n_data_points\n",
    "\n",
    "    overall_entropy=(p_data_below * calculate_entropy(data_below)+ p_data_above * calculate_entropy(data_above))\n",
    "    \n",
    "    return overall_entropy"
   ]
  },
  {
   "cell_type": "code",
   "execution_count": 21,
   "metadata": {},
   "outputs": [],
   "source": [
    "'''Function to determine the best split out of many potential splits'''\n",
    "def determine_best_split(data,potential_splits):\n",
    "    \n",
    "    overall_entropy=999\n",
    "    for column_index in potential_splits:\n",
    "        for value in potential_splits[column_index]:\n",
    "            data_below,data_above=split_data(data,split_column=column_index,split_value=value)\n",
    "            current_overall_entropy=calculate_overall_entropy(data_below,data_above)\n",
    "        \n",
    "            if current_overall_entropy <= overall_entropy:\n",
    "                overall_entropy=current_overall_entropy\n",
    "                best_split_column=column_index\n",
    "                best_split_value=value\n",
    "    \n",
    "    return best_split_column,best_split_value"
   ]
  },
  {
   "cell_type": "code",
   "execution_count": 22,
   "metadata": {},
   "outputs": [
    {
     "data": {
      "text/plain": [
       "(0, 234.5)"
      ]
     },
     "execution_count": 22,
     "metadata": {},
     "output_type": "execute_result"
    }
   ],
   "source": [
    "determine_best_split(data,potential_splits)"
   ]
  },
  {
   "cell_type": "markdown",
   "metadata": {},
   "source": [
    "## Decision Tree Algorithm"
   ]
  },
  {
   "cell_type": "markdown",
   "metadata": {},
   "source": [
    "subtree={question:[yes_answer,no_answer]}\n",
    "example_tree={\"Power(bhp) >100\":[\"sports\",{\"Weight(lbs) <200\":[\"moped\",{\"mileage(km) >50\":[\"mileage\",\"highway\"]}]}]}"
   ]
  },
  {
   "cell_type": "markdown",
   "metadata": {},
   "source": [
    "### Algorithm"
   ]
  },
  {
   "cell_type": "code",
   "execution_count": 23,
   "metadata": {},
   "outputs": [],
   "source": [
    "'''Main algorithm'''\n",
    "def decision_tree_algorithm(df,counter=0,min_samples=2,max_depth=5):\n",
    "    #data preparation\n",
    "    if counter==0:\n",
    "        global COLUMN_HEADERS\n",
    "        COLUMN_HEADERS=df.columns\n",
    "        data=df.values\n",
    "    else:\n",
    "        data=df\n",
    "    #base case\n",
    "    if (check_purity(data)) or (len(data) < min_samples) or (counter==max_depth):\n",
    "        classification=classify_data(data)\n",
    "        return classification\n",
    "    #recursive block\n",
    "    else:\n",
    "        counter+=1\n",
    "        #helper functions\n",
    "        potential_splits=get_potential_splits(data)\n",
    "        split_column,split_value=determine_best_split(data,potential_splits)\n",
    "        data_below,data_above=split_data(data,split_column,split_value)\n",
    "        \n",
    "        #instantiate subtree\n",
    "        feature_name=COLUMN_HEADERS[split_column]\n",
    "        question=\"{} <= {}\".format(feature_name,split_value)\n",
    "        sub_tree={question: []}\n",
    "        \n",
    "        #find_answers(recursion)\n",
    "        yes_answer=decision_tree_algorithm(data_below,counter,min_samples,max_depth)\n",
    "        no_answer=decision_tree_algorithm(data_above,counter,min_samples,max_depth)\n",
    "        \n",
    "        if yes_answer==no_answer:\n",
    "            sub_tree=yes_answer\n",
    "        else:\n",
    "            sub_tree[question].append(yes_answer)\n",
    "            sub_tree[question].append(no_answer)\n",
    "        \n",
    "        return sub_tree\n",
    "        "
   ]
  },
  {
   "cell_type": "code",
   "execution_count": 44,
   "metadata": {},
   "outputs": [
    {
     "name": "stdout",
     "output_type": "stream",
     "text": [
      "{'Engine(cc) <= 234.5': [{'Mileage(km) <= 54.5': [{'Weight(lbs) <= 278.5': ['moped',\n",
      "                                                                            'mileage']},\n",
      "                                                  'mileage']},\n",
      "                         {'Weight(lbs) <= 345.0': [{'Engine(cc) <= 259.5': [{'Power(bhp) <= 18.05': ['highway',\n",
      "                                                                                                     'mileage']},\n",
      "                                                                            'highway']},\n",
      "                                                   'sports']}]}\n"
     ]
    }
   ],
   "source": [
    "tree=decision_tree_algorithm(train_df,max_depth=4)#[train_df.label!=\"sports\"])\n",
    "pprint(tree)#pruning the tree"
   ]
  },
  {
   "cell_type": "markdown",
   "metadata": {},
   "source": [
    "### classification"
   ]
  },
  {
   "cell_type": "code",
   "execution_count": 45,
   "metadata": {},
   "outputs": [
    {
     "data": {
      "text/plain": [
       "Engine(cc)                   90\n",
       "Mileage(km)                  40\n",
       "Weight(lbs)                 140\n",
       "Power(bhp)                  5.5\n",
       "label                     moped\n",
       "classification            moped\n",
       "classification_correct     True\n",
       "Name: 39, dtype: object"
      ]
     },
     "execution_count": 45,
     "metadata": {},
     "output_type": "execute_result"
    }
   ],
   "source": [
    "'''For an example test dataset'''\n",
    "example=test_df.iloc[1]\n",
    "example"
   ]
  },
  {
   "cell_type": "code",
   "execution_count": 46,
   "metadata": {},
   "outputs": [],
   "source": [
    "def classify_example(example,tree):\n",
    "    question=list(tree.keys())[0]\n",
    "    feature_name,comparison_operator,value=question.split()\n",
    "\n",
    "    #ask question\n",
    "    if example[feature_name]<=float(value):\n",
    "        answer=tree[question][0]\n",
    "    else:\n",
    "        answer=tree[question][1]\n",
    "\n",
    "    #base case\n",
    "    if not isinstance(answer,dict):\n",
    "        return answer\n",
    "\n",
    "    #recursive function\n",
    "    else: \n",
    "        residual_tree=answer\n",
    "        return classify_example(example,residual_tree)"
   ]
  },
  {
   "cell_type": "code",
   "execution_count": 27,
   "metadata": {},
   "outputs": [
    {
     "data": {
      "text/plain": [
       "'sports'"
      ]
     },
     "execution_count": 27,
     "metadata": {},
     "output_type": "execute_result"
    }
   ],
   "source": [
    "classify_example(example,tree)"
   ]
  },
  {
   "cell_type": "code",
   "execution_count": 28,
   "metadata": {},
   "outputs": [],
   "source": [
    "#example[\"Price(Rs)\"]<=130000"
   ]
  },
  {
   "cell_type": "markdown",
   "metadata": {},
   "source": [
    "## Accuracy"
   ]
  },
  {
   "cell_type": "code",
   "execution_count": 47,
   "metadata": {},
   "outputs": [],
   "source": [
    "'''Function to calculate accuracy'''\n",
    "def calculate_accuracy(df,tree):\n",
    "    df[\"classification\"]=df.apply(classify_example,axis=1,args=(tree,))\n",
    "    df[\"classification_correct\"]=df.classification==df.label\n",
    "    \n",
    "    accuracy=df.classification_correct.mean()\n",
    "    return accuracy"
   ]
  },
  {
   "cell_type": "code",
   "execution_count": 48,
   "metadata": {},
   "outputs": [
    {
     "data": {
      "text/plain": [
       "0.9230769230769231"
      ]
     },
     "execution_count": 48,
     "metadata": {},
     "output_type": "execute_result"
    }
   ],
   "source": [
    "calculate_accuracy(test_df,tree)"
   ]
  },
  {
   "cell_type": "code",
   "execution_count": 31,
   "metadata": {
    "scrolled": true
   },
   "outputs": [
    {
     "data": {
      "text/html": [
       "<div>\n",
       "<style scoped>\n",
       "    .dataframe tbody tr th:only-of-type {\n",
       "        vertical-align: middle;\n",
       "    }\n",
       "\n",
       "    .dataframe tbody tr th {\n",
       "        vertical-align: top;\n",
       "    }\n",
       "\n",
       "    .dataframe thead th {\n",
       "        text-align: right;\n",
       "    }\n",
       "</style>\n",
       "<table border=\"1\" class=\"dataframe\">\n",
       "  <thead>\n",
       "    <tr style=\"text-align: right;\">\n",
       "      <th></th>\n",
       "      <th>Engine(cc)</th>\n",
       "      <th>Mileage(km)</th>\n",
       "      <th>Weight(lbs)</th>\n",
       "      <th>Power(bhp)</th>\n",
       "      <th>label</th>\n",
       "      <th>classification</th>\n",
       "      <th>classification_correct</th>\n",
       "    </tr>\n",
       "  </thead>\n",
       "  <tbody>\n",
       "    <tr>\n",
       "      <th>5</th>\n",
       "      <td>150</td>\n",
       "      <td>38</td>\n",
       "      <td>190</td>\n",
       "      <td>17.0</td>\n",
       "      <td>moped</td>\n",
       "      <td>moped</td>\n",
       "      <td>True</td>\n",
       "    </tr>\n",
       "    <tr>\n",
       "      <th>32</th>\n",
       "      <td>310</td>\n",
       "      <td>37</td>\n",
       "      <td>300</td>\n",
       "      <td>127.0</td>\n",
       "      <td>highway</td>\n",
       "      <td>sports</td>\n",
       "      <td>False</td>\n",
       "    </tr>\n",
       "    <tr>\n",
       "      <th>35</th>\n",
       "      <td>310</td>\n",
       "      <td>36</td>\n",
       "      <td>288</td>\n",
       "      <td>28.0</td>\n",
       "      <td>highway</td>\n",
       "      <td>highway</td>\n",
       "      <td>True</td>\n",
       "    </tr>\n",
       "    <tr>\n",
       "      <th>16</th>\n",
       "      <td>249</td>\n",
       "      <td>33</td>\n",
       "      <td>240</td>\n",
       "      <td>15.8</td>\n",
       "      <td>highway</td>\n",
       "      <td>moped</td>\n",
       "      <td>False</td>\n",
       "    </tr>\n",
       "    <tr>\n",
       "      <th>42</th>\n",
       "      <td>125</td>\n",
       "      <td>55</td>\n",
       "      <td>240</td>\n",
       "      <td>8.5</td>\n",
       "      <td>mileage</td>\n",
       "      <td>moped</td>\n",
       "      <td>False</td>\n",
       "    </tr>\n",
       "    <tr>\n",
       "      <th>14</th>\n",
       "      <td>920</td>\n",
       "      <td>32</td>\n",
       "      <td>410</td>\n",
       "      <td>190.0</td>\n",
       "      <td>sports</td>\n",
       "      <td>sports</td>\n",
       "      <td>True</td>\n",
       "    </tr>\n",
       "    <tr>\n",
       "      <th>38</th>\n",
       "      <td>340</td>\n",
       "      <td>34</td>\n",
       "      <td>195</td>\n",
       "      <td>150.0</td>\n",
       "      <td>highway</td>\n",
       "      <td>sports</td>\n",
       "      <td>False</td>\n",
       "    </tr>\n",
       "    <tr>\n",
       "      <th>15</th>\n",
       "      <td>125</td>\n",
       "      <td>60</td>\n",
       "      <td>250</td>\n",
       "      <td>12.0</td>\n",
       "      <td>mileage</td>\n",
       "      <td>moped</td>\n",
       "      <td>False</td>\n",
       "    </tr>\n",
       "    <tr>\n",
       "      <th>29</th>\n",
       "      <td>125</td>\n",
       "      <td>40</td>\n",
       "      <td>180</td>\n",
       "      <td>7.0</td>\n",
       "      <td>moped</td>\n",
       "      <td>moped</td>\n",
       "      <td>True</td>\n",
       "    </tr>\n",
       "    <tr>\n",
       "      <th>17</th>\n",
       "      <td>1000</td>\n",
       "      <td>31</td>\n",
       "      <td>370</td>\n",
       "      <td>75.0</td>\n",
       "      <td>sports</td>\n",
       "      <td>sports</td>\n",
       "      <td>True</td>\n",
       "    </tr>\n",
       "    <tr>\n",
       "      <th>1</th>\n",
       "      <td>200</td>\n",
       "      <td>55</td>\n",
       "      <td>260</td>\n",
       "      <td>7.4</td>\n",
       "      <td>mileage</td>\n",
       "      <td>moped</td>\n",
       "      <td>False</td>\n",
       "    </tr>\n",
       "    <tr>\n",
       "      <th>24</th>\n",
       "      <td>270</td>\n",
       "      <td>38</td>\n",
       "      <td>280</td>\n",
       "      <td>7.0</td>\n",
       "      <td>highway</td>\n",
       "      <td>highway</td>\n",
       "      <td>True</td>\n",
       "    </tr>\n",
       "    <tr>\n",
       "      <th>34</th>\n",
       "      <td>280</td>\n",
       "      <td>39</td>\n",
       "      <td>286</td>\n",
       "      <td>30.0</td>\n",
       "      <td>highway</td>\n",
       "      <td>highway</td>\n",
       "      <td>True</td>\n",
       "    </tr>\n",
       "  </tbody>\n",
       "</table>\n",
       "</div>"
      ],
      "text/plain": [
       "    Engine(cc)  Mileage(km)  Weight(lbs)  Power(bhp)    label classification  \\\n",
       "5          150           38          190        17.0    moped          moped   \n",
       "32         310           37          300       127.0  highway         sports   \n",
       "35         310           36          288        28.0  highway        highway   \n",
       "16         249           33          240        15.8  highway          moped   \n",
       "42         125           55          240         8.5  mileage          moped   \n",
       "14         920           32          410       190.0   sports         sports   \n",
       "38         340           34          195       150.0  highway         sports   \n",
       "15         125           60          250        12.0  mileage          moped   \n",
       "29         125           40          180         7.0    moped          moped   \n",
       "17        1000           31          370        75.0   sports         sports   \n",
       "1          200           55          260         7.4  mileage          moped   \n",
       "24         270           38          280         7.0  highway        highway   \n",
       "34         280           39          286        30.0  highway        highway   \n",
       "\n",
       "    classification_correct  \n",
       "5                     True  \n",
       "32                   False  \n",
       "35                    True  \n",
       "16                   False  \n",
       "42                   False  \n",
       "14                    True  \n",
       "38                   False  \n",
       "15                   False  \n",
       "29                    True  \n",
       "17                    True  \n",
       "1                    False  \n",
       "24                    True  \n",
       "34                    True  "
      ]
     },
     "execution_count": 31,
     "metadata": {},
     "output_type": "execute_result"
    }
   ],
   "source": [
    "'''To check what rows resulted in incorrect classification'''\n",
    "test_df"
   ]
  },
  {
   "cell_type": "code",
   "execution_count": 32,
   "metadata": {},
   "outputs": [
    {
     "name": "stdout",
     "output_type": "stream",
     "text": [
      "{'Engine(cc) <= 269.5': [{'Weight(lbs) <= 268.5': ['moped', 'mileage']},\n",
      "                         {'Power(bhp) <= 74.5': ['highway', 'sports']}]}\n"
     ]
    }
   ],
   "source": [
    "pprint(tree)"
   ]
  },
  {
   "cell_type": "code",
   "execution_count": 41,
   "metadata": {},
   "outputs": [
    {
     "name": "stdout",
     "output_type": "stream",
     "text": [
      "[20, 39, 7, 31, 37, 21, 12, 15, 1, 17, 40, 14, 11]\n",
      "{'Engine(cc) <= 234.5': [{'Mileage(km) <= 54.5': [{'Weight(lbs) <= 278.5': ['moped',\n",
      "                                                                            'mileage']},\n",
      "                                                  'mileage']},\n",
      "                         {'Weight(lbs) <= 345.0': ['highway', 'sports']}]}\n",
      "0.9230769230769231\n"
     ]
    }
   ],
   "source": [
    "'''Overall algorithm summarised in 3 steps, to avoid ranom.seed(0) function'''\n",
    "\n",
    "train_df, test_df=train_test_split(df,test_size=0.3)\n",
    "\n",
    "tree=decision_tree_algorithm(train_df,max_depth=3)\n",
    "\n",
    "accuracy=calculate_accuracy(test_df,tree)\n",
    "\n",
    "pprint(tree)\n",
    "pprint(accuracy)"
   ]
  },
  {
   "cell_type": "code",
   "execution_count": null,
   "metadata": {},
   "outputs": [],
   "source": []
  },
  {
   "cell_type": "code",
   "execution_count": null,
   "metadata": {},
   "outputs": [],
   "source": []
  }
 ],
 "metadata": {
  "kernelspec": {
   "display_name": "Python 3",
   "language": "python",
   "name": "python3"
  },
  "language_info": {
   "codemirror_mode": {
    "name": "ipython",
    "version": 3
   },
   "file_extension": ".py",
   "mimetype": "text/x-python",
   "name": "python",
   "nbconvert_exporter": "python",
   "pygments_lexer": "ipython3",
   "version": "3.7.3"
  }
 },
 "nbformat": 4,
 "nbformat_minor": 2
}
